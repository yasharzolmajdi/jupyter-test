{
 "metadata": {
  "name": "",
  "signature": "sha256:4997000efd69b335ff55f6eed3b9ee20a47bb92f0fd25ec1119af0e633fbe289"
 },
 "nbformat": 3,
 "nbformat_minor": 0,
 "worksheets": [
  {
   "cells": [
    {
     "cell_type": "markdown",
     "metadata": {},
     "source": [
      "# Exploration of Airline On-Time Performance\n",
      "\n",
      "In this notebook, we explore a sample of data from the U.S. Department of Transportation (US-DOT) Research and Innovative Technology Administration (RITA) [Bureau of Transportation Statistics](http://www.rita.dot.gov/bts/about/) (BTS). The data comes from the [On-Time Performance](http://www.transtats.bts.gov/Fields.asp?Table_ID=236) table:\n",
      "\n",
      "> This table contains on-time arrival data for non-stop domestic flights by major air carriers, and provides such additional items as departure and arrival delays, origin and destination airports, flight numbers, scheduled and actual departure and arrival times, cancelled or diverted flights, taxi-out and taxi-in times, air time, and non-stop distance.\n",
      "\n",
      "## Questions\n",
      "\n",
      "For the purposes of this notebook, I have captured a subset of the table in a [Cloudant](https://cloudant.com) database. We will start by connecting to the database and simply looking at the available data. Once we understand the content, we will try to answer the following questions about flights during the month of June, 2014:\n",
      "\n",
      "1. What is the distribution of departure delays of at least 15 minutes by state? Arrival delays?\n",
      "1. Is there a tendency of flights from one state to another to experience a delay of 15 minutes or more on the arriving end?\n",
      "1. How did arrival delay in minutes vary day-by-day?\n",
      "\n",
      "## Connect to Cloudant\n",
      "\n",
      "To get to the data, we can use a [Cloudant client for Python](https://cloudant.com/python/). We'll can install the official client by shelling out to `bash` and running a `pip` command right here."
     ]
    },
    {
     "cell_type": "code",
     "collapsed": false,
     "input": [
      "!pip install cloudant"
     ],
     "language": "python",
     "metadata": {},
     "outputs": [
      {
       "output_type": "stream",
       "stream": "stdout",
       "text": [
        "Requirement already satisfied (use --upgrade to upgrade): cloudant in /usr/local/lib/python2.7/dist-packages\r\n",
        "Requirement already satisfied (use --upgrade to upgrade): requests-futures==0.9.4 in /usr/local/lib/python2.7/dist-packages (from cloudant)\r\n",
        "Requirement already satisfied (use --upgrade to upgrade): requests>=1.2.0 in /usr/lib/python2.7/dist-packages (from requests-futures==0.9.4->cloudant)\r\n",
        "Requirement already satisfied (use --upgrade to upgrade): futures>=2.1.3 in /usr/local/lib/python2.7/dist-packages (from requests-futures==0.9.4->cloudant)\r\n",
        "Cleaning up...\r\n"
       ]
      }
     ],
     "prompt_number": 1
    },
    {
     "cell_type": "markdown",
     "metadata": {},
     "source": [
      "Now we'll import the `cloudant` package we just installed and use it to connect to the read-only `rita_transtats_2014_06` database in the `parente` user account."
     ]
    },
    {
     "cell_type": "code",
     "collapsed": false,
     "input": [
      "import cloudant"
     ],
     "language": "python",
     "metadata": {},
     "outputs": [],
     "prompt_number": 2
    },
    {
     "cell_type": "code",
     "collapsed": false,
     "input": [
      "account = cloudant.Account('parente')"
     ],
     "language": "python",
     "metadata": {},
     "outputs": [],
     "prompt_number": 3
    },
    {
     "cell_type": "code",
     "collapsed": false,
     "input": [
      "database = account.database('rita_transtats_2014_06')"
     ],
     "language": "python",
     "metadata": {},
     "outputs": [],
     "prompt_number": 4
    },
    {
     "cell_type": "markdown",
     "metadata": {},
     "source": [
      "The `cloudant` package builds on the popular Python [requests](http://docs.python-requests.org/en/latest/) package. Almost every object that comes back from the API is a subclass of a `requests` class. This means we can perform a HTTP GET against the database and get the JSON body of the response with a couple method calls."
     ]
    },
    {
     "cell_type": "code",
     "collapsed": false,
     "input": [
      "database.get().json()"
     ],
     "language": "python",
     "metadata": {},
     "outputs": [
      {
       "metadata": {},
       "output_type": "pyout",
       "prompt_number": 5,
       "text": [
        "{u'compact_running': False,\n",
        " u'db_name': u'rita_transtats_2014_06',\n",
        " u'disk_format_version': 5,\n",
        " u'disk_size': 160707408,\n",
        " u'doc_count': 502500,\n",
        " u'doc_del_count': 0,\n",
        " u'instance_start_time': u'0',\n",
        " u'other': {u'data_size': 265247850},\n",
        " u'purge_seq': 0,\n",
        " u'update_seq': u'502516-g1AAAADveJzLYWBgYMlgTmGQT0lKzi9KdUhJMtJLykxPyilN1UvOyS9NScwr0ctLLckBKmRKZEiy____f1YSA-PrcKJ1JTkAyaR6qMZX84nWmMcCJBkagBRQ736w5mgSNR-AaIbYvDgLACDLUQs'}"
       ]
      }
     ],
     "prompt_number": 5
    },
    {
     "cell_type": "markdown",
     "metadata": {},
     "source": [
      "From the above, we can see the database contains roughly 500,000 documents. We can grab a couple from the database to inspect locally."
     ]
    },
    {
     "cell_type": "code",
     "collapsed": false,
     "input": [
      "items = []\n",
      "for i, item in enumerate(database.all_docs(params={'include_docs' : True})):\n",
      "    if i > 1: break\n",
      "    items.append(item)\n",
      "print items"
     ],
     "language": "python",
     "metadata": {},
     "outputs": [
      {
       "output_type": "stream",
       "stream": "stdout",
       "text": [
        "[{u'value': {u'rev': u'1-40fc15f608f95f0428e2e9d6b468e483'}, u'id': u'04da0d01eb0f15d5c56eb1399a000a35', u'key': u'04da0d01eb0f15d5c56eb1399a000a35', u'doc': {u'DISTANCE': 1947.0, u'DEST_AIRPORT_ID': 12892, u'ARR_DEL15': 0.0, u'ORIGIN_STATE_ABR': u'GA', u'_rev': u'1-40fc15f608f95f0428e2e9d6b468e483', u'ARR_DELAY_NEW': 0.0, u'UNIQUE_CARRIER': u'DL', u'ORIGIN_AIRPORT_ID': 10397, u'DISTANCE_GROUP': 8, u'DEP_DEL15': 0.0, u'_id': u'04da0d01eb0f15d5c56eb1399a000a35', u'DEST_STATE_ABR': u'CA', u'DEP_DELAY_NEW': 0.0, u'FL_DATE': u'2014-06-30'}}, {u'value': {u'rev': u'1-4dd24d56dc537210f49fe327c7773178'}, u'id': u'04da0d01eb0f15d5c56eb1399a001198', u'key': u'04da0d01eb0f15d5c56eb1399a001198', u'doc': {u'DISTANCE': 282.0, u'DEST_AIRPORT_ID': 13487, u'ARR_DEL15': 0.0, u'ORIGIN_STATE_ABR': u'NE', u'_rev': u'1-4dd24d56dc537210f49fe327c7773178', u'ARR_DELAY_NEW': 0.0, u'UNIQUE_CARRIER': u'DL', u'ORIGIN_AIRPORT_ID': 13871, u'DISTANCE_GROUP': 2, u'DEP_DEL15': 0.0, u'_id': u'04da0d01eb0f15d5c56eb1399a001198', u'DEST_STATE_ABR': u'MN', u'DEP_DELAY_NEW': 0.0, u'FL_DATE': u'2014-06-30'}}]\n"
       ]
      }
     ],
     "prompt_number": 6
    },
    {
     "cell_type": "markdown",
     "metadata": {},
     "source": [
      "The dictionary format is hard to read and contains metadata from Cloudant that we don't care about. Let's use the `pandas` package to put the data in a tabular, HTML format instead."
     ]
    },
    {
     "cell_type": "code",
     "collapsed": false,
     "input": [
      "import pandas"
     ],
     "language": "python",
     "metadata": {},
     "outputs": [],
     "prompt_number": 7
    },
    {
     "cell_type": "code",
     "collapsed": false,
     "input": [
      "pandas.DataFrame([item['doc'] for item in items])"
     ],
     "language": "python",
     "metadata": {},
     "outputs": [
      {
       "html": [
        "<div style=\"max-height:1000px;max-width:1500px;overflow:auto;\">\n",
        "<table border=\"1\" class=\"dataframe\">\n",
        "  <thead>\n",
        "    <tr style=\"text-align: right;\">\n",
        "      <th></th>\n",
        "      <th>ARR_DEL15</th>\n",
        "      <th>ARR_DELAY_NEW</th>\n",
        "      <th>DEP_DEL15</th>\n",
        "      <th>DEP_DELAY_NEW</th>\n",
        "      <th>DEST_AIRPORT_ID</th>\n",
        "      <th>DEST_STATE_ABR</th>\n",
        "      <th>DISTANCE</th>\n",
        "      <th>DISTANCE_GROUP</th>\n",
        "      <th>FL_DATE</th>\n",
        "      <th>ORIGIN_AIRPORT_ID</th>\n",
        "      <th>ORIGIN_STATE_ABR</th>\n",
        "      <th>UNIQUE_CARRIER</th>\n",
        "      <th>_id</th>\n",
        "      <th>_rev</th>\n",
        "    </tr>\n",
        "  </thead>\n",
        "  <tbody>\n",
        "    <tr>\n",
        "      <th>0</th>\n",
        "      <td> 0</td>\n",
        "      <td> 0</td>\n",
        "      <td> 0</td>\n",
        "      <td> 0</td>\n",
        "      <td> 12892</td>\n",
        "      <td> CA</td>\n",
        "      <td> 1947</td>\n",
        "      <td> 8</td>\n",
        "      <td> 2014-06-30</td>\n",
        "      <td> 10397</td>\n",
        "      <td> GA</td>\n",
        "      <td> DL</td>\n",
        "      <td> 04da0d01eb0f15d5c56eb1399a000a35</td>\n",
        "      <td> 1-40fc15f608f95f0428e2e9d6b468e483</td>\n",
        "    </tr>\n",
        "    <tr>\n",
        "      <th>1</th>\n",
        "      <td> 0</td>\n",
        "      <td> 0</td>\n",
        "      <td> 0</td>\n",
        "      <td> 0</td>\n",
        "      <td> 13487</td>\n",
        "      <td> MN</td>\n",
        "      <td>  282</td>\n",
        "      <td> 2</td>\n",
        "      <td> 2014-06-30</td>\n",
        "      <td> 13871</td>\n",
        "      <td> NE</td>\n",
        "      <td> DL</td>\n",
        "      <td> 04da0d01eb0f15d5c56eb1399a001198</td>\n",
        "      <td> 1-4dd24d56dc537210f49fe327c7773178</td>\n",
        "    </tr>\n",
        "  </tbody>\n",
        "</table>\n",
        "</div>"
       ],
       "metadata": {},
       "output_type": "pyout",
       "prompt_number": 8,
       "text": [
        "   ARR_DEL15  ARR_DELAY_NEW  DEP_DEL15  DEP_DELAY_NEW  DEST_AIRPORT_ID  \\\n",
        "0          0              0          0              0            12892   \n",
        "1          0              0          0              0            13487   \n",
        "\n",
        "  DEST_STATE_ABR  DISTANCE  DISTANCE_GROUP     FL_DATE  ORIGIN_AIRPORT_ID  \\\n",
        "0             CA      1947               8  2014-06-30              10397   \n",
        "1             MN       282               2  2014-06-30              13871   \n",
        "\n",
        "  ORIGIN_STATE_ABR UNIQUE_CARRIER                               _id  \\\n",
        "0               GA             DL  04da0d01eb0f15d5c56eb1399a000a35   \n",
        "1               NE             DL  04da0d01eb0f15d5c56eb1399a001198   \n",
        "\n",
        "                                 _rev  \n",
        "0  1-40fc15f608f95f0428e2e9d6b468e483  \n",
        "1  1-4dd24d56dc537210f49fe327c7773178  "
       ]
      }
     ],
     "prompt_number": 8
    },
    {
     "cell_type": "markdown",
     "metadata": {},
     "source": [
      "Returning to [the source of the data](http://www.transtats.bts.gov/Fields.asp?Table_ID=236), we can get definitions for each of these fields. \n",
      "\n",
      "<dl class=\"dl-horizontal\">\n",
      "<dt>ARR_DEL15</dt>\n",
      "<dd>Arrival Delay Indicator, 15 Minutes or More (1=Yes)</dd>\n",
      "<dt>ARR_DEL15</dt>\n",
      "<dd>Arrival Delay Indicator, 15 Minutes or More (1=Yes)</dd>\n",
      "<dt>ARR_DELAY_NEW</dt>\n",
      "<dd>Difference in minutes between scheduled and actual arrival time. Early arrivals set to 0.</dd>\n",
      "<dt>DEP_DEL15</dt>\n",
      "<dd>Departure Delay Indicator, 15 Minutes or More (1=Yes)</dd>\n",
      "<dt>DEP_DELAY_NEW</dt>\n",
      "<dd>Difference in minutes between scheduled and actual departure time. Early departures set to 0.</dd>\n",
      "<dt>DEST_AIRPORT_ID</dt>\n",
      "<dd>Destination Airport, Airport ID. An identification number assigned by US DOT to identify a unique airport. Use this field for airport analysis across a range of years because an airport can change its airport code and airport codes can be reused.</dd>\n",
      "<dt>DEST_STATE_ABR</dt>\n",
      "<dd>Destination Airport, State Code</dd>\n",
      "<dt>DISTANCE</dt>\n",
      "<dd>Distance between airports (miles)</dd>\n",
      "<dt>DISTANCE_GROUP</dt>\n",
      "<dd>Distance Intervals, every 250 Miles, for Flight Segment</dd>\n",
      "<dt>FL_DATE</dt>\n",
      "<dd>Flight Date (yyyymmdd)</dd>\n",
      "<dt>ORIGIN_AIRPORT_ID</dt>\n",
      "<dd>Origin Airport, Airport ID. An identification number assigned by US DOT to identify a unique airport. Use this field for airport analysis across a range of years because an airport can change its airport code and airport codes can be reused.</dd>\n",
      "<dt>ORIGIN_STATE_ABR</dt>\n",
      "<dd>Origin Airport, State Code</dd>\n",
      "<dt>UNIQUE_CARRIER</dt>\n",
      "<dd>Unique Carrier Code. When the same code has been used by multiple carriers, a numeric suffix is used for earlier users, for example, PA, PA(1), PA(2). Use this field for analysis across a range of years.</dd>\n",
      "</dl>\n",
      "\n",
      "\n",
      "\n",
      "For the purposes of the specific questions stated at the top of this notebook, we only need a subset of the available columns, namely delay metrics, origin and destination states, and the flight date. We'll ignore the other fields."
     ]
    },
    {
     "cell_type": "code",
     "collapsed": false,
     "input": [
      "columns = [u'FL_DATE', u'ORIGIN_STATE_ABR', u'DEST_STATE_ABR', u'ARR_DEL15', u'ARR_DELAY_NEW', u'DEP_DEL15', u'DEP_DELAY_NEW', u'DISTANCE', u'DISTANCE_GROUP',]"
     ],
     "language": "python",
     "metadata": {},
     "outputs": [],
     "prompt_number": 9
    },
    {
     "cell_type": "markdown",
     "metadata": {},
     "source": [
      "Moving forward, we'll assume we only have 1 GB of RAM total. Since we're only dealing with half a million records here, we can probably pull the entire contents of the database into local memory. If the data proves too large, we can rely on the map/reduce and search capabilities in Cloudant to work with the data instead.\n",
      "\n",
      "Being optimistic, we write a little loop that gets up to 20,000 docs at a time from the database. It stores the 20,000 in a simple Python list. Once the buffer reaches the threshold, we create a DataFrame from the buffer which reduces the data to just the fields we want. We do this chunking because appending to a DataFrame one row at a time is much slower."
     ]
    },
    {
     "cell_type": "code",
     "collapsed": false,
     "input": [
      "%%time\n",
      "dfs = []\n",
      "buff = []\n",
      "for i, item in enumerate(database.all_docs(params={'include_docs' : True})):\n",
      "    buff.append(item['doc'])\n",
      "    if i > 0 and i % 20000 == 0:\n",
      "        print 'Processed #{}'.format(i)\n",
      "        df = pandas.DataFrame(buff, columns=columns)\n",
      "        dfs.append(df)\n",
      "        buff = []\n",
      "# don't forget the leftovers\n",
      "df = pandas.DataFrame(buff, columns=columns)\n",
      "dfs.append(df)"
     ],
     "language": "python",
     "metadata": {},
     "outputs": [
      {
       "output_type": "stream",
       "stream": "stdout",
       "text": [
        "Processed #20000\n",
        "Processed #40000"
       ]
      },
      {
       "output_type": "stream",
       "stream": "stdout",
       "text": [
        "\n",
        "Processed #60000"
       ]
      },
      {
       "output_type": "stream",
       "stream": "stdout",
       "text": [
        "\n",
        "Processed #80000"
       ]
      },
      {
       "output_type": "stream",
       "stream": "stdout",
       "text": [
        "\n",
        "Processed #100000"
       ]
      },
      {
       "output_type": "stream",
       "stream": "stdout",
       "text": [
        "\n",
        "Processed #120000"
       ]
      },
      {
       "output_type": "stream",
       "stream": "stdout",
       "text": [
        "\n",
        "Processed #140000"
       ]
      },
      {
       "output_type": "stream",
       "stream": "stdout",
       "text": [
        "\n",
        "Processed #160000"
       ]
      },
      {
       "output_type": "stream",
       "stream": "stdout",
       "text": [
        "\n",
        "Processed #180000"
       ]
      },
      {
       "output_type": "stream",
       "stream": "stdout",
       "text": [
        "\n",
        "Processed #200000"
       ]
      },
      {
       "output_type": "stream",
       "stream": "stdout",
       "text": [
        "\n",
        "Processed #220000"
       ]
      },
      {
       "output_type": "stream",
       "stream": "stdout",
       "text": [
        "\n",
        "Processed #240000"
       ]
      },
      {
       "output_type": "stream",
       "stream": "stdout",
       "text": [
        "\n",
        "Processed #260000"
       ]
      },
      {
       "output_type": "stream",
       "stream": "stdout",
       "text": [
        "\n",
        "Processed #280000"
       ]
      },
      {
       "output_type": "stream",
       "stream": "stdout",
       "text": [
        "\n",
        "Processed #300000"
       ]
      },
      {
       "output_type": "stream",
       "stream": "stdout",
       "text": [
        "\n",
        "Processed #320000"
       ]
      },
      {
       "output_type": "stream",
       "stream": "stdout",
       "text": [
        "\n",
        "Processed #340000"
       ]
      },
      {
       "output_type": "stream",
       "stream": "stdout",
       "text": [
        "\n",
        "Processed #360000"
       ]
      },
      {
       "output_type": "stream",
       "stream": "stdout",
       "text": [
        "\n",
        "Processed #380000"
       ]
      },
      {
       "output_type": "stream",
       "stream": "stdout",
       "text": [
        "\n",
        "Processed #400000"
       ]
      },
      {
       "output_type": "stream",
       "stream": "stdout",
       "text": [
        "\n",
        "Processed #420000"
       ]
      },
      {
       "output_type": "stream",
       "stream": "stdout",
       "text": [
        "\n",
        "Processed #440000"
       ]
      },
      {
       "output_type": "stream",
       "stream": "stdout",
       "text": [
        "\n",
        "Processed #460000"
       ]
      },
      {
       "output_type": "stream",
       "stream": "stdout",
       "text": [
        "\n",
        "Processed #480000"
       ]
      },
      {
       "output_type": "stream",
       "stream": "stdout",
       "text": [
        "\n",
        "Processed #500000"
       ]
      },
      {
       "output_type": "stream",
       "stream": "stdout",
       "text": [
        "\n",
        "CPU times: user 29 s, sys: 1.92 s, total: 30.9 s"
       ]
      },
      {
       "output_type": "stream",
       "stream": "stdout",
       "text": [
        "\n",
        "Wall time: 43.5 s\n"
       ]
      }
     ],
     "prompt_number": 10
    },
    {
     "cell_type": "markdown",
     "metadata": {},
     "source": [
      "Now we can build one DataFrame by quickly concatenating all the subframes we built in the loop above."
     ]
    },
    {
     "cell_type": "code",
     "collapsed": false,
     "input": [
      "df = pandas.concat(dfs)"
     ],
     "language": "python",
     "metadata": {},
     "outputs": [],
     "prompt_number": 11
    },
    {
     "cell_type": "markdown",
     "metadata": {},
     "source": [
      "At this point, we have two copies of all the data in memory, which is undesirable. Before we delete the temporary buffer and subframes to free up some RAM, let's ensure the DataFrame row count matches the document count in the database."
     ]
    },
    {
     "cell_type": "code",
     "collapsed": false,
     "input": [
      "assert len(df) == database.get().json()['doc_count']"
     ],
     "language": "python",
     "metadata": {},
     "outputs": [],
     "prompt_number": 12
    },
    {
     "cell_type": "code",
     "collapsed": false,
     "input": [
      "del dfs\n",
      "del buff"
     ],
     "language": "python",
     "metadata": {},
     "outputs": [],
     "prompt_number": 13
    },
    {
     "cell_type": "code",
     "collapsed": false,
     "input": [
      "!free -m"
     ],
     "language": "python",
     "metadata": {},
     "outputs": [
      {
       "output_type": "stream",
       "stream": "stdout",
       "text": [
        "             total       used       free     shared    buffers     cached\r\n",
        "Mem:           989        700        289          1         73        178\r\n",
        "-/+ buffers/cache:        449        540\r\n",
        "Swap:         2047         29       2017\r\n"
       ]
      }
     ],
     "prompt_number": 14
    },
    {
     "cell_type": "markdown",
     "metadata": {},
     "source": [
      "As one last step, we reset the index on the DataFrame so that it is a unique, monotonically increasing integer. As it stands, we have dupes in our index because of our chunking (i.e., each chunk starts at index 0). This reset will prove important in some of our later plots where the index must be unique per row."
     ]
    },
    {
     "cell_type": "code",
     "collapsed": false,
     "input": [
      "df = df.reset_index(drop=True)"
     ],
     "language": "python",
     "metadata": {},
     "outputs": [],
     "prompt_number": 15
    },
    {
     "cell_type": "markdown",
     "metadata": {},
     "source": [
      "## Distribution of Delay Counts by State\n",
      "\n",
      "> What is the distribution of departure delays of at least 15 minutes by state? Arrival delays?\n",
      "\n",
      "Let's look at some basic information about delays to start and work up to delays grouped by state. Because the question asks about delays 15 minutes or longer, we'll focus on the `DEP_DEL15` and `ARR_DEL15` columns."
     ]
    },
    {
     "cell_type": "code",
     "collapsed": false,
     "input": [
      "df.DEP_DEL15.value_counts() / len(df)"
     ],
     "language": "python",
     "metadata": {},
     "outputs": [
      {
       "metadata": {},
       "output_type": "pyout",
       "prompt_number": 16,
       "text": [
        "0    0.731817\n",
        "1    0.248993\n",
        "dtype: float64"
       ]
      }
     ],
     "prompt_number": 16
    },
    {
     "cell_type": "code",
     "collapsed": false,
     "input": [
      "df.ARR_DEL15.value_counts() / len(df)"
     ],
     "language": "python",
     "metadata": {},
     "outputs": [
      {
       "metadata": {},
       "output_type": "pyout",
       "prompt_number": 17,
       "text": [
        "0    0.718265\n",
        "1    0.258054\n",
        "dtype: float64"
       ]
      }
     ],
     "prompt_number": 17
    },
    {
     "cell_type": "markdown",
     "metadata": {},
     "source": [
      "Roughly a quarter of all departures and a quarter of all arrivals have delays. We can look at the distribution more closely once we enable and configure plotting with [matplotlib](http://matplotlib.org/) and [seaborn](http://web.stanford.edu/~mwaskom/software/seaborn/)."
     ]
    },
    {
     "cell_type": "code",
     "collapsed": false,
     "input": [
      "%matplotlib inline"
     ],
     "language": "python",
     "metadata": {},
     "outputs": [],
     "prompt_number": 18
    },
    {
     "cell_type": "code",
     "collapsed": false,
     "input": [
      "import matplotlib.pyplot as plt"
     ],
     "language": "python",
     "metadata": {},
     "outputs": [],
     "prompt_number": 19
    },
    {
     "cell_type": "code",
     "collapsed": false,
     "input": [
      "import seaborn as sns\n",
      "sns.set_palette(\"deep\", desat=.6)\n",
      "colors = sns.color_palette(\"deep\")\n",
      "sns.set_context(rc={\"figure.figsize\": (18, 5)})"
     ],
     "language": "python",
     "metadata": {},
     "outputs": [],
     "prompt_number": 20
    },
    {
     "cell_type": "markdown",
     "metadata": {},
     "source": [
      "Let's group by state now and sum the number of delays. We'll do it for both departure and arrival delays."
     ]
    },
    {
     "cell_type": "code",
     "collapsed": false,
     "input": [
      "by_origin_state = df.groupby('ORIGIN_STATE_ABR')\n",
      "departure_delay_counts = by_origin_state.DEP_DEL15.sum()"
     ],
     "language": "python",
     "metadata": {},
     "outputs": [],
     "prompt_number": 21
    },
    {
     "cell_type": "code",
     "collapsed": false,
     "input": [
      "by_dest_state = df.groupby('DEST_STATE_ABR')\n",
      "arrival_delay_counts = by_dest_state.ARR_DEL15.sum()"
     ],
     "language": "python",
     "metadata": {},
     "outputs": [],
     "prompt_number": 22
    },
    {
     "cell_type": "markdown",
     "metadata": {},
     "source": [
      "To plot, we'll put both series in a DataFrame so we can view the arrival and departure delays for each state side-by-side."
     ]
    },
    {
     "cell_type": "code",
     "collapsed": false,
     "input": [
      "delay_df = pandas.DataFrame([departure_delay_counts, arrival_delay_counts]).T"
     ],
     "language": "python",
     "metadata": {},
     "outputs": [],
     "prompt_number": 23
    },
    {
     "cell_type": "code",
     "collapsed": false,
     "input": [
      "delay_df.sort('DEP_DEL15', ascending=False).plot(kind='bar', title='Number of delayed flights by state')"
     ],
     "language": "python",
     "metadata": {},
     "outputs": [
      {
       "metadata": {},
       "output_type": "pyout",
       "prompt_number": 24,
       "text": [
        "<matplotlib.axes._subplots.AxesSubplot at 0x7f67ac978990>"
       ]
      },
      {
       "metadata": {},
       "output_type": "display_data",
       "png": "[encoded data removed]",
       "text": [
        "<matplotlib.figure.Figure at 0x7f67ac9784d0>"
       ]
      }
     ],
     "prompt_number": 24
    },
    {
     "cell_type": "markdown",
     "metadata": {},
     "source": [
      "Big states with big airports appear to be in the top five. But we haven't accounted for how many total flights these states service. We should plot the percentage of flights that are delayed."
     ]
    },
    {
     "cell_type": "code",
     "collapsed": false,
     "input": [
      "pct_departure_delay = departure_delay_counts / df.ORIGIN_STATE_ABR.value_counts()\n",
      "pct_arrival_delay = arrival_delay_counts / df.DEST_STATE_ABR.value_counts()"
     ],
     "language": "python",
     "metadata": {},
     "outputs": [],
     "prompt_number": 25
    },
    {
     "cell_type": "markdown",
     "metadata": {},
     "source": [
      "Ranking states of origin by their percentage of departures tells a different story than the plot above. For example, here we see Illinois and Arkansas at the top of the list whereas IL was third in total departure delay counts and AR was ranked 25th or so. California, which is #2 in the number of total departure delays is only #17 in percentage of departures delayed. Not bad."
     ]
    },
    {
     "cell_type": "code",
     "collapsed": false,
     "input": [
      "pct_departure_delay.order(ascending=False).plot(kind='bar', title='% flights with departure delays by origin state')"
     ],
     "language": "python",
     "metadata": {},
     "outputs": [
      {
       "metadata": {},
       "output_type": "pyout",
       "prompt_number": 26,
       "text": [
        "<matplotlib.axes._subplots.AxesSubplot at 0x7f67abb67e90>"
       ]
      },
      {
       "metadata": {},
       "output_type": "display_data",
       "png": "[encoded data removed]",
       "text": [
        "<matplotlib.figure.Figure at 0x7f67b205be50>"
       ]
      }
     ],
     "prompt_number": 26
    },
    {
     "cell_type": "markdown",
     "metadata": {},
     "source": [
      "Similarly, when we look at destination states ranked by percentage of arrivals delayed, we see some new states at the head of the list. For instance, Delaware, second to last in the total number of delays overall, has the highest percentage of arrival delays for inbound flights. Iowa and Kansas are also new entries near the top."
     ]
    },
    {
     "cell_type": "code",
     "collapsed": false,
     "input": [
      "pct_arrival_delay.order(ascending=False).plot(kind='bar', color=colors[1], title='% flights with arrival delay by destination state')"
     ],
     "language": "python",
     "metadata": {},
     "outputs": [
      {
       "metadata": {},
       "output_type": "pyout",
       "prompt_number": 27,
       "text": [
        "<matplotlib.axes._subplots.AxesSubplot at 0x7f67ad3fec10>"
       ]
      },
      {
       "metadata": {},
       "output_type": "display_data",
       "png": "[encoded data removed]",
       "text": [
        "<matplotlib.figure.Figure at 0x7f67abf97d50>"
       ]
      }
     ],
     "prompt_number": 27
    },
    {
     "cell_type": "markdown",
     "metadata": {},
     "source": [
      "We can get a sense of the difference between the two percentages for each state by plotting them on the same axes. In the plot below, we find that most states see more arrival delays than departure delays. The disparity seems greatest for smaller, less populated states that don't have huge airports (e.g., DE, IA, RI). We can't say for sure without studying more data or perhaps correlating the disparity with the state's ranking in terms of the total number of flights it serviced. We'll leave that as an exercise for the future."
     ]
    },
    {
     "cell_type": "code",
     "collapsed": false,
     "input": [
      "pct_delay_df = pandas.DataFrame([pct_departure_delay, pct_arrival_delay], index=['PCT_DEP_DEL15', 'PCT_ARR_DEL15']).T"
     ],
     "language": "python",
     "metadata": {},
     "outputs": [],
     "prompt_number": 28
    },
    {
     "cell_type": "code",
     "collapsed": false,
     "input": [
      "pct_delay_df.sort('PCT_ARR_DEL15', ascending=False).plot(kind='bar', title='Overlapping % delay plots for comparison')"
     ],
     "language": "python",
     "metadata": {},
     "outputs": [
      {
       "metadata": {},
       "output_type": "pyout",
       "prompt_number": 29,
       "text": [
        "<matplotlib.axes._subplots.AxesSubplot at 0x7f67a96854d0>"
       ]
      },
      {
       "metadata": {},
       "output_type": "display_data",
       "png": "[encoded data removed]",
       "text": [
        "<matplotlib.figure.Figure at 0x7f67abdaa850>"
       ]
      }
     ],
     "prompt_number": 29
    },
    {
     "cell_type": "markdown",
     "metadata": {},
     "source": [
      "## Delay Tendency\n",
      "\n",
      "> Is there a tendency of flights from one state to another to experience a delay of 15 minutes or more on the arriving end?\n",
      "\n",
      "While there are many ways to answer this question, we'll look at visualizations of two metrics:\n",
      "\n",
      "1. How many times does a delay occur for an (origin &rarr; destination) state pair over all flights during the time period? (This is the [support of a simple association rule](http://en.wikipedia.org/wiki/Association_rule_learning#Useful_Concepts).)\n",
      "2. What percentage of total flights from an origin to a destination are delayed during the time period?\n",
      "\n",
      "First, we'll compute the support. We do so by grouping all of the arrival delay counts by the origin and destination."
     ]
    },
    {
     "cell_type": "code",
     "collapsed": false,
     "input": [
      "from __future__ import division"
     ],
     "language": "python",
     "metadata": {},
     "outputs": [],
     "prompt_number": 30
    },
    {
     "cell_type": "code",
     "collapsed": false,
     "input": [
      "delay_counts_df = df[['ORIGIN_STATE_ABR', 'DEST_STATE_ABR', 'ARR_DEL15']].groupby(['ORIGIN_STATE_ABR', 'DEST_STATE_ABR']).sum()\n",
      "delay_counts_df.head()"
     ],
     "language": "python",
     "metadata": {},
     "outputs": [
      {
       "html": [
        "<div style=\"max-height:1000px;max-width:1500px;overflow:auto;\">\n",
        "<table border=\"1\" class=\"dataframe\">\n",
        "  <thead>\n",
        "    <tr style=\"text-align: right;\">\n",
        "      <th></th>\n",
        "      <th></th>\n",
        "      <th>ARR_DEL15</th>\n",
        "    </tr>\n",
        "    <tr>\n",
        "      <th>ORIGIN_STATE_ABR</th>\n",
        "      <th>DEST_STATE_ABR</th>\n",
        "      <th></th>\n",
        "    </tr>\n",
        "  </thead>\n",
        "  <tbody>\n",
        "    <tr>\n",
        "      <th rowspan=\"5\" valign=\"top\">AK</th>\n",
        "      <th>AK</th>\n",
        "      <td> 351</td>\n",
        "    </tr>\n",
        "    <tr>\n",
        "      <th>AZ</th>\n",
        "      <td>   5</td>\n",
        "    </tr>\n",
        "    <tr>\n",
        "      <th>CA</th>\n",
        "      <td>  11</td>\n",
        "    </tr>\n",
        "    <tr>\n",
        "      <th>CO</th>\n",
        "      <td>  21</td>\n",
        "    </tr>\n",
        "    <tr>\n",
        "      <th>GA</th>\n",
        "      <td>   3</td>\n",
        "    </tr>\n",
        "  </tbody>\n",
        "</table>\n",
        "</div>"
       ],
       "metadata": {},
       "output_type": "pyout",
       "prompt_number": 31,
       "text": [
        "                                 ARR_DEL15\n",
        "ORIGIN_STATE_ABR DEST_STATE_ABR           \n",
        "AK               AK                    351\n",
        "                 AZ                      5\n",
        "                 CA                     11\n",
        "                 CO                     21\n",
        "                 GA                      3"
       ]
      }
     ],
     "prompt_number": 31
    },
    {
     "cell_type": "markdown",
     "metadata": {},
     "source": [
      "We divide each (origin &rarr; destination) delay count by the total number of flights during the period."
     ]
    },
    {
     "cell_type": "code",
     "collapsed": false,
     "input": [
      "support = (delay_counts_df / len(df))\n",
      "support.head()"
     ],
     "language": "python",
     "metadata": {},
     "outputs": [
      {
       "html": [
        "<div style=\"max-height:1000px;max-width:1500px;overflow:auto;\">\n",
        "<table border=\"1\" class=\"dataframe\">\n",
        "  <thead>\n",
        "    <tr style=\"text-align: right;\">\n",
        "      <th></th>\n",
        "      <th></th>\n",
        "      <th>ARR_DEL15</th>\n",
        "    </tr>\n",
        "    <tr>\n",
        "      <th>ORIGIN_STATE_ABR</th>\n",
        "      <th>DEST_STATE_ABR</th>\n",
        "      <th></th>\n",
        "    </tr>\n",
        "  </thead>\n",
        "  <tbody>\n",
        "    <tr>\n",
        "      <th rowspan=\"5\" valign=\"top\">AK</th>\n",
        "      <th>AK</th>\n",
        "      <td> 0.000699</td>\n",
        "    </tr>\n",
        "    <tr>\n",
        "      <th>AZ</th>\n",
        "      <td> 0.000010</td>\n",
        "    </tr>\n",
        "    <tr>\n",
        "      <th>CA</th>\n",
        "      <td> 0.000022</td>\n",
        "    </tr>\n",
        "    <tr>\n",
        "      <th>CO</th>\n",
        "      <td> 0.000042</td>\n",
        "    </tr>\n",
        "    <tr>\n",
        "      <th>GA</th>\n",
        "      <td> 0.000006</td>\n",
        "    </tr>\n",
        "  </tbody>\n",
        "</table>\n",
        "</div>"
       ],
       "metadata": {},
       "output_type": "pyout",
       "prompt_number": 32,
       "text": [
        "                                 ARR_DEL15\n",
        "ORIGIN_STATE_ABR DEST_STATE_ABR           \n",
        "AK               AK               0.000699\n",
        "                 AZ               0.000010\n",
        "                 CA               0.000022\n",
        "                 CO               0.000042\n",
        "                 GA               0.000006"
       ]
      }
     ],
     "prompt_number": 32
    },
    {
     "cell_type": "markdown",
     "metadata": {},
     "source": [
      "We unstack the multiple indices so that we have a N x N matrix with origins as rows and destinations as columns."
     ]
    },
    {
     "cell_type": "code",
     "collapsed": false,
     "input": [
      "support = support.unstack()\n",
      "support.head()"
     ],
     "language": "python",
     "metadata": {},
     "outputs": [
      {
       "html": [
        "<div style=\"max-height:1000px;max-width:1500px;overflow:auto;\">\n",
        "<table border=\"1\" class=\"dataframe\">\n",
        "  <thead>\n",
        "    <tr>\n",
        "      <th></th>\n",
        "      <th colspan=\"21\" halign=\"left\">ARR_DEL15</th>\n",
        "    </tr>\n",
        "    <tr>\n",
        "      <th>DEST_STATE_ABR</th>\n",
        "      <th>AK</th>\n",
        "      <th>AL</th>\n",
        "      <th>AR</th>\n",
        "      <th>AZ</th>\n",
        "      <th>CA</th>\n",
        "      <th>CO</th>\n",
        "      <th>CT</th>\n",
        "      <th>DE</th>\n",
        "      <th>FL</th>\n",
        "      <th>GA</th>\n",
        "      <th>...</th>\n",
        "      <th>TT</th>\n",
        "      <th>TX</th>\n",
        "      <th>UT</th>\n",
        "      <th>VA</th>\n",
        "      <th>VI</th>\n",
        "      <th>VT</th>\n",
        "      <th>WA</th>\n",
        "      <th>WI</th>\n",
        "      <th>WV</th>\n",
        "      <th>WY</th>\n",
        "    </tr>\n",
        "    <tr>\n",
        "      <th>ORIGIN_STATE_ABR</th>\n",
        "      <th></th>\n",
        "      <th></th>\n",
        "      <th></th>\n",
        "      <th></th>\n",
        "      <th></th>\n",
        "      <th></th>\n",
        "      <th></th>\n",
        "      <th></th>\n",
        "      <th></th>\n",
        "      <th></th>\n",
        "      <th></th>\n",
        "      <th></th>\n",
        "      <th></th>\n",
        "      <th></th>\n",
        "      <th></th>\n",
        "      <th></th>\n",
        "      <th></th>\n",
        "      <th></th>\n",
        "      <th></th>\n",
        "      <th></th>\n",
        "      <th></th>\n",
        "    </tr>\n",
        "  </thead>\n",
        "  <tbody>\n",
        "    <tr>\n",
        "      <th>AK</th>\n",
        "      <td> 0.000699</td>\n",
        "      <td>NaN</td>\n",
        "      <td>      NaN</td>\n",
        "      <td> 0.000010</td>\n",
        "      <td> 0.000022</td>\n",
        "      <td> 0.000042</td>\n",
        "      <td>      NaN</td>\n",
        "      <td>NaN</td>\n",
        "      <td>      NaN</td>\n",
        "      <td> 0.000006</td>\n",
        "      <td>...</td>\n",
        "      <td>NaN</td>\n",
        "      <td> 0.000050</td>\n",
        "      <td> 0.000004</td>\n",
        "      <td>      NaN</td>\n",
        "      <td>NaN</td>\n",
        "      <td>NaN</td>\n",
        "      <td> 0.000209</td>\n",
        "      <td>      NaN</td>\n",
        "      <td>NaN</td>\n",
        "      <td>NaN</td>\n",
        "    </tr>\n",
        "    <tr>\n",
        "      <th>AL</th>\n",
        "      <td>      NaN</td>\n",
        "      <td>NaN</td>\n",
        "      <td>      NaN</td>\n",
        "      <td>      NaN</td>\n",
        "      <td>      NaN</td>\n",
        "      <td> 0.000064</td>\n",
        "      <td>      NaN</td>\n",
        "      <td>NaN</td>\n",
        "      <td> 0.000080</td>\n",
        "      <td> 0.000364</td>\n",
        "      <td>...</td>\n",
        "      <td>NaN</td>\n",
        "      <td> 0.000631</td>\n",
        "      <td>      NaN</td>\n",
        "      <td> 0.000018</td>\n",
        "      <td>NaN</td>\n",
        "      <td>NaN</td>\n",
        "      <td>      NaN</td>\n",
        "      <td>      NaN</td>\n",
        "      <td>NaN</td>\n",
        "      <td>NaN</td>\n",
        "    </tr>\n",
        "    <tr>\n",
        "      <th>AR</th>\n",
        "      <td>      NaN</td>\n",
        "      <td>NaN</td>\n",
        "      <td>      NaN</td>\n",
        "      <td> 0.000008</td>\n",
        "      <td> 0.000036</td>\n",
        "      <td> 0.000098</td>\n",
        "      <td>      NaN</td>\n",
        "      <td>NaN</td>\n",
        "      <td>      NaN</td>\n",
        "      <td> 0.000163</td>\n",
        "      <td>...</td>\n",
        "      <td>NaN</td>\n",
        "      <td> 0.000826</td>\n",
        "      <td> 0.000002</td>\n",
        "      <td>      NaN</td>\n",
        "      <td>NaN</td>\n",
        "      <td>NaN</td>\n",
        "      <td>      NaN</td>\n",
        "      <td>      NaN</td>\n",
        "      <td>NaN</td>\n",
        "      <td>NaN</td>\n",
        "    </tr>\n",
        "    <tr>\n",
        "      <th>AZ</th>\n",
        "      <td> 0.000026</td>\n",
        "      <td>NaN</td>\n",
        "      <td> 0.000008</td>\n",
        "      <td> 0.000129</td>\n",
        "      <td> 0.002559</td>\n",
        "      <td> 0.000352</td>\n",
        "      <td>      NaN</td>\n",
        "      <td>NaN</td>\n",
        "      <td> 0.000086</td>\n",
        "      <td> 0.000113</td>\n",
        "      <td>...</td>\n",
        "      <td>NaN</td>\n",
        "      <td> 0.000722</td>\n",
        "      <td> 0.000239</td>\n",
        "      <td> 0.000072</td>\n",
        "      <td>NaN</td>\n",
        "      <td>NaN</td>\n",
        "      <td> 0.000291</td>\n",
        "      <td> 0.000062</td>\n",
        "      <td>NaN</td>\n",
        "      <td>NaN</td>\n",
        "    </tr>\n",
        "    <tr>\n",
        "      <th>CA</th>\n",
        "      <td> 0.000056</td>\n",
        "      <td>NaN</td>\n",
        "      <td> 0.000008</td>\n",
        "      <td> 0.001847</td>\n",
        "      <td> 0.011355</td>\n",
        "      <td> 0.001409</td>\n",
        "      <td> 0.000014</td>\n",
        "      <td>NaN</td>\n",
        "      <td> 0.000302</td>\n",
        "      <td> 0.000344</td>\n",
        "      <td>...</td>\n",
        "      <td>NaN</td>\n",
        "      <td> 0.002113</td>\n",
        "      <td> 0.000557</td>\n",
        "      <td> 0.000406</td>\n",
        "      <td>NaN</td>\n",
        "      <td>NaN</td>\n",
        "      <td> 0.001423</td>\n",
        "      <td> 0.000068</td>\n",
        "      <td>NaN</td>\n",
        "      <td>  0</td>\n",
        "    </tr>\n",
        "  </tbody>\n",
        "</table>\n",
        "<p>5 rows \u00d7 53 columns</p>\n",
        "</div>"
       ],
       "metadata": {},
       "output_type": "pyout",
       "prompt_number": 33,
       "text": [
        "                  ARR_DEL15                                              \\\n",
        "DEST_STATE_ABR           AK  AL        AR        AZ        CA        CO   \n",
        "ORIGIN_STATE_ABR                                                          \n",
        "AK                 0.000699 NaN       NaN  0.000010  0.000022  0.000042   \n",
        "AL                      NaN NaN       NaN       NaN       NaN  0.000064   \n",
        "AR                      NaN NaN       NaN  0.000008  0.000036  0.000098   \n",
        "AZ                 0.000026 NaN  0.000008  0.000129  0.002559  0.000352   \n",
        "CA                 0.000056 NaN  0.000008  0.001847  0.011355  0.001409   \n",
        "\n",
        "                                                      ...                   \\\n",
        "DEST_STATE_ABR          CT  DE        FL        GA    ...     TT        TX   \n",
        "ORIGIN_STATE_ABR                                      ...                    \n",
        "AK                     NaN NaN       NaN  0.000006    ...    NaN  0.000050   \n",
        "AL                     NaN NaN  0.000080  0.000364    ...    NaN  0.000631   \n",
        "AR                     NaN NaN       NaN  0.000163    ...    NaN  0.000826   \n",
        "AZ                     NaN NaN  0.000086  0.000113    ...    NaN  0.000722   \n",
        "CA                0.000014 NaN  0.000302  0.000344    ...    NaN  0.002113   \n",
        "\n",
        "                                                                          \n",
        "DEST_STATE_ABR          UT        VA  VI  VT        WA        WI  WV  WY  \n",
        "ORIGIN_STATE_ABR                                                          \n",
        "AK                0.000004       NaN NaN NaN  0.000209       NaN NaN NaN  \n",
        "AL                     NaN  0.000018 NaN NaN       NaN       NaN NaN NaN  \n",
        "AR                0.000002       NaN NaN NaN       NaN       NaN NaN NaN  \n",
        "AZ                0.000239  0.000072 NaN NaN  0.000291  0.000062 NaN NaN  \n",
        "CA                0.000557  0.000406 NaN NaN  0.001423  0.000068 NaN   0  \n",
        "\n",
        "[5 rows x 53 columns]"
       ]
      }
     ],
     "prompt_number": 33
    },
    {
     "cell_type": "markdown",
     "metadata": {},
     "source": [
      "Unfortunately, we now have a multilevel set of columns. One way to remove the outer level is to rotate the matrix, reset the outer index to drop it, and then rotate it back.\n",
      "\n",
      "In the resulting matrix, each cell represents the proportion of total, system-wide flights that were delayed between an (origin &rarr; destination) pair."
     ]
    },
    {
     "cell_type": "code",
     "collapsed": false,
     "input": [
      "support = support.T.reset_index(level=0, drop=True).T\n",
      "support.head()"
     ],
     "language": "python",
     "metadata": {},
     "outputs": [
      {
       "html": [
        "<div style=\"max-height:1000px;max-width:1500px;overflow:auto;\">\n",
        "<table border=\"1\" class=\"dataframe\">\n",
        "  <thead>\n",
        "    <tr style=\"text-align: right;\">\n",
        "      <th>DEST_STATE_ABR</th>\n",
        "      <th>AK</th>\n",
        "      <th>AL</th>\n",
        "      <th>AR</th>\n",
        "      <th>AZ</th>\n",
        "      <th>CA</th>\n",
        "      <th>CO</th>\n",
        "      <th>CT</th>\n",
        "      <th>DE</th>\n",
        "      <th>FL</th>\n",
        "      <th>GA</th>\n",
        "      <th>...</th>\n",
        "      <th>TT</th>\n",
        "      <th>TX</th>\n",
        "      <th>UT</th>\n",
        "      <th>VA</th>\n",
        "      <th>VI</th>\n",
        "      <th>VT</th>\n",
        "      <th>WA</th>\n",
        "      <th>WI</th>\n",
        "      <th>WV</th>\n",
        "      <th>WY</th>\n",
        "    </tr>\n",
        "    <tr>\n",
        "      <th>ORIGIN_STATE_ABR</th>\n",
        "      <th></th>\n",
        "      <th></th>\n",
        "      <th></th>\n",
        "      <th></th>\n",
        "      <th></th>\n",
        "      <th></th>\n",
        "      <th></th>\n",
        "      <th></th>\n",
        "      <th></th>\n",
        "      <th></th>\n",
        "      <th></th>\n",
        "      <th></th>\n",
        "      <th></th>\n",
        "      <th></th>\n",
        "      <th></th>\n",
        "      <th></th>\n",
        "      <th></th>\n",
        "      <th></th>\n",
        "      <th></th>\n",
        "      <th></th>\n",
        "      <th></th>\n",
        "    </tr>\n",
        "  </thead>\n",
        "  <tbody>\n",
        "    <tr>\n",
        "      <th>AK</th>\n",
        "      <td> 0.000699</td>\n",
        "      <td>NaN</td>\n",
        "      <td>      NaN</td>\n",
        "      <td> 0.000010</td>\n",
        "      <td> 0.000022</td>\n",
        "      <td> 0.000042</td>\n",
        "      <td>      NaN</td>\n",
        "      <td>NaN</td>\n",
        "      <td>      NaN</td>\n",
        "      <td> 0.000006</td>\n",
        "      <td>...</td>\n",
        "      <td>NaN</td>\n",
        "      <td> 0.000050</td>\n",
        "      <td> 0.000004</td>\n",
        "      <td>      NaN</td>\n",
        "      <td>NaN</td>\n",
        "      <td>NaN</td>\n",
        "      <td> 0.000209</td>\n",
        "      <td>      NaN</td>\n",
        "      <td>NaN</td>\n",
        "      <td>NaN</td>\n",
        "    </tr>\n",
        "    <tr>\n",
        "      <th>AL</th>\n",
        "      <td>      NaN</td>\n",
        "      <td>NaN</td>\n",
        "      <td>      NaN</td>\n",
        "      <td>      NaN</td>\n",
        "      <td>      NaN</td>\n",
        "      <td> 0.000064</td>\n",
        "      <td>      NaN</td>\n",
        "      <td>NaN</td>\n",
        "      <td> 0.000080</td>\n",
        "      <td> 0.000364</td>\n",
        "      <td>...</td>\n",
        "      <td>NaN</td>\n",
        "      <td> 0.000631</td>\n",
        "      <td>      NaN</td>\n",
        "      <td> 0.000018</td>\n",
        "      <td>NaN</td>\n",
        "      <td>NaN</td>\n",
        "      <td>      NaN</td>\n",
        "      <td>      NaN</td>\n",
        "      <td>NaN</td>\n",
        "      <td>NaN</td>\n",
        "    </tr>\n",
        "    <tr>\n",
        "      <th>AR</th>\n",
        "      <td>      NaN</td>\n",
        "      <td>NaN</td>\n",
        "      <td>      NaN</td>\n",
        "      <td> 0.000008</td>\n",
        "      <td> 0.000036</td>\n",
        "      <td> 0.000098</td>\n",
        "      <td>      NaN</td>\n",
        "      <td>NaN</td>\n",
        "      <td>      NaN</td>\n",
        "      <td> 0.000163</td>\n",
        "      <td>...</td>\n",
        "      <td>NaN</td>\n",
        "      <td> 0.000826</td>\n",
        "      <td> 0.000002</td>\n",
        "      <td>      NaN</td>\n",
        "      <td>NaN</td>\n",
        "      <td>NaN</td>\n",
        "      <td>      NaN</td>\n",
        "      <td>      NaN</td>\n",
        "      <td>NaN</td>\n",
        "      <td>NaN</td>\n",
        "    </tr>\n",
        "    <tr>\n",
        "      <th>AZ</th>\n",
        "      <td> 0.000026</td>\n",
        "      <td>NaN</td>\n",
        "      <td> 0.000008</td>\n",
        "      <td> 0.000129</td>\n",
        "      <td> 0.002559</td>\n",
        "      <td> 0.000352</td>\n",
        "      <td>      NaN</td>\n",
        "      <td>NaN</td>\n",
        "      <td> 0.000086</td>\n",
        "      <td> 0.000113</td>\n",
        "      <td>...</td>\n",
        "      <td>NaN</td>\n",
        "      <td> 0.000722</td>\n",
        "      <td> 0.000239</td>\n",
        "      <td> 0.000072</td>\n",
        "      <td>NaN</td>\n",
        "      <td>NaN</td>\n",
        "      <td> 0.000291</td>\n",
        "      <td> 0.000062</td>\n",
        "      <td>NaN</td>\n",
        "      <td>NaN</td>\n",
        "    </tr>\n",
        "    <tr>\n",
        "      <th>CA</th>\n",
        "      <td> 0.000056</td>\n",
        "      <td>NaN</td>\n",
        "      <td> 0.000008</td>\n",
        "      <td> 0.001847</td>\n",
        "      <td> 0.011355</td>\n",
        "      <td> 0.001409</td>\n",
        "      <td> 0.000014</td>\n",
        "      <td>NaN</td>\n",
        "      <td> 0.000302</td>\n",
        "      <td> 0.000344</td>\n",
        "      <td>...</td>\n",
        "      <td>NaN</td>\n",
        "      <td> 0.002113</td>\n",
        "      <td> 0.000557</td>\n",
        "      <td> 0.000406</td>\n",
        "      <td>NaN</td>\n",
        "      <td>NaN</td>\n",
        "      <td> 0.001423</td>\n",
        "      <td> 0.000068</td>\n",
        "      <td>NaN</td>\n",
        "      <td>  0</td>\n",
        "    </tr>\n",
        "  </tbody>\n",
        "</table>\n",
        "<p>5 rows \u00d7 53 columns</p>\n",
        "</div>"
       ],
       "metadata": {},
       "output_type": "pyout",
       "prompt_number": 34,
       "text": [
        "DEST_STATE_ABR          AK  AL        AR        AZ        CA        CO  \\\n",
        "ORIGIN_STATE_ABR                                                         \n",
        "AK                0.000699 NaN       NaN  0.000010  0.000022  0.000042   \n",
        "AL                     NaN NaN       NaN       NaN       NaN  0.000064   \n",
        "AR                     NaN NaN       NaN  0.000008  0.000036  0.000098   \n",
        "AZ                0.000026 NaN  0.000008  0.000129  0.002559  0.000352   \n",
        "CA                0.000056 NaN  0.000008  0.001847  0.011355  0.001409   \n",
        "\n",
        "DEST_STATE_ABR          CT  DE        FL        GA    ...     TT        TX  \\\n",
        "ORIGIN_STATE_ABR                                      ...                    \n",
        "AK                     NaN NaN       NaN  0.000006    ...    NaN  0.000050   \n",
        "AL                     NaN NaN  0.000080  0.000364    ...    NaN  0.000631   \n",
        "AR                     NaN NaN       NaN  0.000163    ...    NaN  0.000826   \n",
        "AZ                     NaN NaN  0.000086  0.000113    ...    NaN  0.000722   \n",
        "CA                0.000014 NaN  0.000302  0.000344    ...    NaN  0.002113   \n",
        "\n",
        "DEST_STATE_ABR          UT        VA  VI  VT        WA        WI  WV  WY  \n",
        "ORIGIN_STATE_ABR                                                          \n",
        "AK                0.000004       NaN NaN NaN  0.000209       NaN NaN NaN  \n",
        "AL                     NaN  0.000018 NaN NaN       NaN       NaN NaN NaN  \n",
        "AR                0.000002       NaN NaN NaN       NaN       NaN NaN NaN  \n",
        "AZ                0.000239  0.000072 NaN NaN  0.000291  0.000062 NaN NaN  \n",
        "CA                0.000557  0.000406 NaN NaN  0.001423  0.000068 NaN   0  \n",
        "\n",
        "[5 rows x 53 columns]"
       ]
      }
     ],
     "prompt_number": 34
    },
    {
     "cell_type": "markdown",
     "metadata": {},
     "source": [
      "At this point, we have a DataFrame that we can query but no clear idea of where to start looking. A visualization of the entire DataFrame can help us find interesting pairs. We borrow and slightly modify some code from `seaborn` to plot our asymmetric matrix as a heatmap."
     ]
    },
    {
     "cell_type": "code",
     "collapsed": false,
     "input": [
      "import numpy as np"
     ],
     "language": "python",
     "metadata": {},
     "outputs": [],
     "prompt_number": 37
    },
    {
     "cell_type": "code",
     "collapsed": false,
     "input": [
      "def asymmatplot(plotmat, names=None, cmap=\"Greys\", cmap_range=None, ax=None, **kwargs):\n",
      "    '''\n",
      "    Plot an asymmetric matrix with colormap and statistic values. A modification of the\n",
      "    symmatplot() function in Seaborn to show the upper-half of the matrix.\n",
      "    \n",
      "    See https://github.com/mwaskom/seaborn/blob/master/seaborn/linearmodels.py for the original.\n",
      "    '''\n",
      "    if ax is None:\n",
      "        ax = plt.gca()\n",
      "\n",
      "    nvars = len(plotmat)\n",
      "\n",
      "    if cmap_range is None:\n",
      "        vmax = np.nanmax(plotmat) * 1.15\n",
      "        vmin = np.nanmin(plotmat) * 1.15\n",
      "    elif len(cmap_range) == 2:\n",
      "        vmin, vmax = cmap_range\n",
      "    else:\n",
      "        raise ValueError(\"cmap_range argument not understood\")\n",
      "\n",
      "    mat_img = ax.matshow(plotmat, cmap=cmap, vmin=vmin, vmax=vmax, **kwargs)\n",
      "\n",
      "    plt.colorbar(mat_img, shrink=.75)\n",
      " \n",
      "    ax.xaxis.set_ticks_position(\"bottom\")\n",
      "    ax.set_xticklabels(names, rotation=90)\n",
      "    ax.set_yticklabels(names)\n",
      "\n",
      "    minor_ticks = np.linspace(-.5, nvars - 1.5, nvars)\n",
      "    ax.set_xticks(minor_ticks, True)\n",
      "    ax.set_yticks(minor_ticks, True)\n",
      "    major_ticks = np.linspace(0, nvars - 1, nvars)\n",
      "    ax.set_xticks(major_ticks)\n",
      "    ax.set_yticks(major_ticks)\n",
      "    ax.grid(False, which=\"major\")\n",
      "    ax.grid(True, which=\"minor\", linestyle=\"-\")\n",
      "\n",
      "    return ax"
     ],
     "language": "python",
     "metadata": {},
     "outputs": [],
     "prompt_number": 38
    },
    {
     "cell_type": "markdown",
     "metadata": {},
     "source": [
      "In the plot, gray boxes represent cases where there are no flights between the origin (row) and destination (column) states. We see mostly light yellowish boxes representing state pairs where delays occur, but in tiny numbers compared to the total number of system-wide flights. \n",
      "\n",
      "We do see a couple very hot spots, namely in the (CA &rarr; CA) and (TX &rarr; TX) cells. We also see a few moderately hot spots, for example (TX &rarr; CA) and (FL &rarr; NY). We can interpret these cells as indicators of where delays tend to occur most across the entire set of flights."
     ]
    },
    {
     "cell_type": "code",
     "collapsed": false,
     "input": [
      "fig, ax = plt.subplots(figsize=(18,18))\n",
      "asymmatplot(support, names=support.columns, ax=ax, cmap='OrRd')"
     ],
     "language": "python",
     "metadata": {},
     "outputs": [
      {
       "metadata": {},
       "output_type": "pyout",
       "prompt_number": 39,
       "text": [
        "<matplotlib.axes._subplots.AxesSubplot at 0x7f679b621890>"
       ]
      },
      {
       "metadata": {},
       "output_type": "display_data",
       "png": "[encoded data removed]",
       "text": [
        "<matplotlib.figure.Figure at 0x7f67a9448550>"
       ]
      }
     ],
     "prompt_number": 39
    },
    {
     "cell_type": "markdown",
     "metadata": {},
     "source": [
      "To understand what the percentage of flights for a particular (origin &rarr; destination) state pair that are delayed, we can look at a second metric using the same visualization. Here we compute the total number of flights for each (origin &rarr; destination) pair."
     ]
    },
    {
     "cell_type": "code",
     "collapsed": false,
     "input": [
      "trip_counts_df = df[['ORIGIN_STATE_ABR', 'DEST_STATE_ABR', 'FL_DATE']].groupby(['ORIGIN_STATE_ABR', 'DEST_STATE_ABR']).count()"
     ],
     "language": "python",
     "metadata": {},
     "outputs": [],
     "prompt_number": 40
    },
    {
     "cell_type": "markdown",
     "metadata": {},
     "source": [
      "To put trip counts DataFrame and our earlier `delay_counts` DataFrame on the same axes, we rename the columns to `COUNTS` in both cases."
     ]
    },
    {
     "cell_type": "code",
     "collapsed": false,
     "input": [
      "delay_counts_df = delay_counts_df.rename_axis({'ARR_DEL15' : 'COUNTS'}, axis=1)\n",
      "trip_counts_df = trip_counts_df.rename_axis({'FL_DATE' : 'COUNTS'}, axis=1)"
     ],
     "language": "python",
     "metadata": {},
     "outputs": [],
     "prompt_number": 41
    },
    {
     "cell_type": "markdown",
     "metadata": {},
     "source": [
      "Now we divide the delay counts by the total trip counts and perform the same transforms we did previous to produce the N by N matrix. In this case, each cell represents the proportion of flights between each (origin &rarr; destination) that were delayed."
     ]
    },
    {
     "cell_type": "code",
     "collapsed": false,
     "input": [
      "mat = (delay_counts_df / trip_counts_df).unstack().T.reset_index(level=0, drop=True).T"
     ],
     "language": "python",
     "metadata": {},
     "outputs": [],
     "prompt_number": 42
    },
    {
     "cell_type": "markdown",
     "metadata": {},
     "source": [
      "In this second heatmap plot, the (CA &rarr; CA) and (TX &rarr; TX) hotspots from the firt visualization no longer stand out. Though there are many in-state delays for these two states, there are even more flights, keeping the percentage of delayed flights for these in-state trips lower than other routes.\n",
      "\n",
      "To the contrary, we see some cases where all flights from one state to another had arrival delays:\n",
      "\n",
      "* (AR &rarr; UT)\n",
      "* (MT &rarr; NY)\n",
      "* (CO &rarr; RI) and (RI &rarr; CO)\n",
      "\n",
      "We can also see some other moderately hot spots, such as (AK &rarr; NJ) and (OK &rarr; MN), which seem to have a higher percentage of delays than other state pairs.\n",
      "\n",
      "One \"crosshair\" jumps out in the visualization: the row and column representing Illinois are nearly both filled with non-gray cells. On closer inspection, we see Illinois sends flights to and receives flights from every other state except one: TT, the state code abbreviation for U.S. Pacific Trust Territories and Possessions. And though it is difficult to make accurate relative value judgments from this visualization, it appears the run of cells in the row and column for Illinois are darker than most other row or column runs (e.g., GA)."
     ]
    },
    {
     "cell_type": "code",
     "collapsed": false,
     "input": [
      "fig, ax = plt.subplots(figsize=(18,18))\n",
      "asymmatplot(mat, names=mat.columns, ax=ax, cmap='OrRd', cmap_range=(0., 1.0))"
     ],
     "language": "python",
     "metadata": {},
     "outputs": [
      {
       "metadata": {},
       "output_type": "pyout",
       "prompt_number": 43,
       "text": [
        "<matplotlib.axes._subplots.AxesSubplot at 0x7f679b051950>"
       ]
      },
      {
       "metadata": {},
       "output_type": "display_data",
       "png": "[encoded data removed]",
       "text": [
        "<matplotlib.figure.Figure at 0x7f679b307f50>"
       ]
      }
     ],
     "prompt_number": 43
    },
    {
     "cell_type": "markdown",
     "metadata": {},
     "source": [
      "Of course, this plot only shows proportions of delayed flights between two states and doesn't depict the number of flights between the two nor the magnitude of the delay. So while all flights between Rhode Island and Colorado were delayed, we need to keep in mind ..."
     ]
    },
    {
     "cell_type": "code",
     "collapsed": false,
     "input": [
      "print delay_counts_df.loc['RI', 'CO']\n",
      "print trip_counts_df.loc['RI', 'CO']"
     ],
     "language": "python",
     "metadata": {},
     "outputs": [
      {
       "output_type": "stream",
       "stream": "stdout",
       "text": [
        "COUNTS    3\n",
        "Name: (RI, CO), dtype: float64\n",
        "COUNTS    3\n",
        "Name: (RI, CO), dtype: int64\n"
       ]
      }
     ],
     "prompt_number": 44
    },
    {
     "cell_type": "markdown",
     "metadata": {},
     "source": [
      "there were only three of them!\n",
      "\n",
      "A visualization that captures both the proportion of (origin &rarr; destination) flights delayed as well as the proportion of total flights represented by that state pair is yet another exercise for the future."
     ]
    },
    {
     "cell_type": "markdown",
     "metadata": {},
     "source": [
      "## Delay Distribution by Date\n",
      "\n",
      "> How did arrival delay in minutes vary day-by-day?\n",
      "\n",
      "To address this question, we can group the `ARR_DELAY_NEW` column by date and look at their descriptive stats. A Tukey box plot by day is a reasonable way for us to start."
     ]
    },
    {
     "cell_type": "code",
     "collapsed": false,
     "input": [
      "fig, ax = plt.subplots(figsize=(18,10))\n",
      "sns.boxplot(df.ARR_DELAY_NEW, df.FL_DATE, ax=ax)\n",
      "fig.autofmt_xdate()"
     ],
     "language": "python",
     "metadata": {},
     "outputs": [
      {
       "metadata": {},
       "output_type": "display_data",
       "png": "[encoded data removed]",
       "text": [
        "<matplotlib.figure.Figure at 0x7f679ad6e190>"
       ]
      }
     ],
     "prompt_number": 45
    },
    {
     "cell_type": "markdown",
     "metadata": {},
     "source": [
      "Oh my, outliers! If the data are to be trusted, there's at least one flight every day that is over 500 minutes (8 hours) late in arriving. In the most extreme case, a flight scheduled on 2014-06-19 appears to have arrived 1800 minutes (30 hours) late. \n",
      "\n",
      "Whether this information is accurate or not requires some fact checking against other historical sources. For now, we can turn off the fliers to get a better view of the interquartile range."
     ]
    },
    {
     "cell_type": "code",
     "collapsed": false,
     "input": [
      "fig, ax = plt.subplots(figsize=(18,10))\n",
      "sns.boxplot(df.ARR_DELAY_NEW, df.FL_DATE, ax=ax, showfliers=False)\n",
      "fig.autofmt_xdate()"
     ],
     "language": "python",
     "metadata": {},
     "outputs": [
      {
       "metadata": {},
       "output_type": "display_data",
       "png": "[encoded data removed]",
       "text": [
        "<matplotlib.figure.Figure at 0x7f679a66ab90>"
       ]
      }
     ],
     "prompt_number": 46
    },
    {
     "cell_type": "markdown",
     "metadata": {},
     "source": [
      "We see that the median arrival delay on most days is zero (or better than zero: this data column counts early arrivals as zeros). Some days see greater skew toward longer delays than others, particularly over the five day periods of Sunday, 2014-06-08 through Friday, 2014-06-13 and Monday, 2014-06-23 through Friday, 2014-06-27. There's also another period of elongation from Wednesday, 2014-06-18 through Thursday, 2014-06-19. These might relate to weather patterns during those weeks or an increase in number of passengers (e.g., summer vacations). Further study and sources of data are required to test these hypotheses."
     ]
    },
    {
     "cell_type": "code",
     "collapsed": false,
     "input": [
      "!cal 6 2014"
     ],
     "language": "python",
     "metadata": {},
     "outputs": [
      {
       "output_type": "stream",
       "stream": "stdout",
       "text": [
        "     June 2014        \r\n",
        "Su Mo Tu We Th Fr Sa  \r\n",
        " 1  2  3  4  5  6  7  \r\n",
        " 8  9 10 11 12 13 14  \r\n",
        "15 16 17 18 19 20 21  \r\n",
        "22 23 24 25 26 27 28  \r\n",
        "29 30                 \r\n",
        "                      \r\n"
       ]
      }
     ],
     "prompt_number": 47
    },
    {
     "cell_type": "markdown",
     "metadata": {},
     "source": [
      "## Going Further\n",
      "\n",
      "If you wish to take this exploration further, here are some questions you might consider addressing with additional thinking and data.\n",
      "\n",
      "* How accurately can a model predict if a flight will be delayed or not using simple features like origin, destination, day of the week, etc.?\n",
      "* What factors (e.g., U.S. weather) help explain the greater median arrival delay and dispersion from 2014-06-08 to 2014-06-13?\n",
      "* How do the results above contrast with the results from applying the same analyses to data from June, 2001? June, 2002?"
     ]
    }
   ],
   "metadata": {}
  }
 ]
}